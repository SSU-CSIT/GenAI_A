{
 "cells": [
  {
   "cell_type": "markdown",
   "id": "c23bb20c",
   "metadata": {},
   "source": [
    "# Hands-on-Lab: Generate Text using Generative AI"
   ]
  },
  {
   "cell_type": "markdown",
   "id": "44b53141",
   "metadata": {},
   "source": [
    "Welcome to the hands-on lab to generate text using generative AI!\n",
    "\n",
    "## What is generative AI?\n",
    "Generative AI is an advanced technology that understands context based on vast training data. Generative AI models can generate new content based on that contextual understanding and mimic human creative skills. The generative model takes a prompt as input and then processes it to generate new content as output.\n",
    "\n",
    "In this lab, you will explore the capabilities of generative AI to generate text.\n",
    "\n",
    "## Learning objectives\n",
    "After completing this lab, you will be able to:\n",
    "\n",
    "    Explore the capabilities of generative AI models to generate text\n",
    "    Prompt generative AI models to generate the desired content\n",
    "    Use language models to convert and modify generated text"
   ]
  },
  {
   "cell_type": "markdown",
   "id": "d54e8ab2",
   "metadata": {},
   "source": [
    "# Try yourself\n",
    "You must try to generate textual responses for various contexts from the language model."
   ]
  },
  {
   "cell_type": "code",
   "execution_count": null,
   "id": "5ef0009d",
   "metadata": {},
   "outputs": [],
   "source": [
    "a. Tell me a fun fact about space.\n",
    "b. Explain how a bicycle works.\n",
    "c. What are three famous poems written by William Wordsworth?\n",
    "d. Create a marketing campaign for a retail fashion brand.\n",
    "e. Help me draft a job description for the role of Instructional Designer."
   ]
  },
  {
   "cell_type": "markdown",
   "id": "e9f520f2",
   "metadata": {},
   "source": [
    "# Text Generation in Action\n",
    "\n",
    "## What is text generation in generative AI?\n",
    "\n",
    "Generative AI's greatest potential is to generate context-based and captivating content, leading to limitless possibilities for intelligent text generation.\n",
    "\n",
    "Generative AI-powered models and tools can be used to generate a wide range of text formats, such as articles, blog posts, social media posts, product descriptions, marketing copy, language translation, conversational interactions, and image descriptions, among many more.\n",
    "\n",
    "In this lab, you will look at the two most popular text generation tools, OpenAI's ChatGPT and Google's Gemini and explore how to use them for text generation and text summarization.\n",
    "\n",
    "## Learning Objectives\n",
    "\n",
    "After completing this lab, you will be able to:\n",
    "\n",
    "    Explore the text generation capability of generative AI\n",
    "    Write emails using ChatGPT\n",
    "    Convert the unit measurement using ChatGPT\n",
    "    Summarize text using Google's Gemini\n",
    "\n",
    "## Exercise 1: Write an email using OpenAI's ChatGPT\n",
    "Writing an effective email for the required subject and context requires cognitive attention, as you must consider the affirmative language, response aligned with the trail mail, grammar, and so on.\n",
    "\n",
    "### Generate the email using a prompt\n",
    "1. Consider a context for your desired email requirement.\n",
    "2. Write the prompt or statement in the send a message field at the bottom of the ChatGPT screen.\n",
    "3. You can validate the content per the context, copy the generated email, and update the details as required.\n",
    "4. You can copy-paste the generated output and tweak it further as required.\n",
    "\n",
    "## Try yourself\n",
    "\n",
    "Now, you must try generating emails for different scenarios using ChatGPT to explore the text generation capabilities of generative AI models and tools.\n",
    "\n",
    "For example,\n",
    "\n",
    "1. Email your professor to request for a meeting\n",
    "2. Write an email to follow up on a job application\n",
    "3. Send out an internal invitation to all your employees for a company event\n",
    "4. Email your team reminding them about delays on a regular project update\n",
    "5. Email your customers announcing your new product launch\n",
    "    Note: You must validate the responses generated through ChatGPT for factual accuracy and use the technology ethically and responsibly.\n",
    "\n",
    "## Exercise 2: Convert a unit measurement using ChatGPT\n",
    "\n",
    "Testing ChatGPT's computational abilities are essential for practicality, education, problem-solving, convenience, versatility, proof of concept, and user engagement. It ensures the AI can effectively perform tasks like math, unit conversion, and problem-solving, making it more valuable in real-world applications and building user trust.\n",
    "\n",
    "### Convert the unit measurement\n",
    "\n",
    "1. Consider a context to convert one unit measurement into another.\n",
    "\n",
    "2. Write the prompt or statement in the send a message field at the bottom of the ChatGPT screen.\n",
    "For example,\n",
    "\n",
    "    \"You have a recipe that shows 500 grams of flour, but your kitchen scale measures in ounces. You need to convert the weight of flour from grams to ounces.\"\n",
    "    Convert 500 grams to ounces and provide the result based on the appropriate conversion factor.\n",
    "\n",
    "## Try yourself\n",
    "\n",
    "Now, you must try different prompts to test the computational capabilities of ChatGPT for different scenarios.\n",
    "For example,\n",
    "\n",
    "1. Find the area of a triangle\n",
    "2. Calculate the average of five random numbers\n",
    "3. Compute the simple interest for a principal amount and rate of interest\n",
    "    Note: You must validate the responses generated through ChatGPT for factual accuracy and use the technology ethically and responsibly."
   ]
  },
  {
   "cell_type": "markdown",
   "id": "a32041fe",
   "metadata": {},
   "source": [
    "## Exercise: Summarize text using Google's Gemini\n",
    "\n",
    "Summarization is vital to drawing meaningful and crisp information from long textual components. This helps focus on the relevant parts and eliminate irrelevant or less important text. Writing a summary of long paragraphs or documents can be a time-consuming process. Based on NLP algorithms, generative AI's LLMs simplify text summarization for you. It speeds up the text summarization of long texts and documents and includes key points and context from the source text.\n",
    "\n",
    "In this exercise, you will examine the text summarization capability of generative AI using Gemini.\n",
    "\n",
    "### What is Gemini?\n",
    "\n",
    "Gemini is a conversational generative AI service that generates various text formats. It is a collaboration tool that harnesses the power of the web. Powered by Google's advanced language models, PaLM, short for Pathways Language Model, pulls information from knowledge across the internet to respond to prompts.\n",
    "\n",
    "### Try yourself\n",
    "\n",
    "Using Gemini, you must try text summarization for different types of content: articles, blogs, research papers, or research reports.\n",
    "\n",
    "\n"
   ]
  }
 ],
 "metadata": {
  "language_info": {
   "name": "python"
  }
 },
 "nbformat": 4,
 "nbformat_minor": 5
}
